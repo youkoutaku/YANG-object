{
 "cells": [
  {
   "attachments": {},
   "cell_type": "markdown",
   "metadata": {},
   "source": [
    "# 第三章　リスト（列表）"
   ]
  },
  {
   "attachments": {},
   "cell_type": "markdown",
   "metadata": {},
   "source": [
    "# 3.1　リスクとは\n",
    "リストは，常に複数の要素を含めているので，リストの変数名を複数な名称にした方が良い．"
   ]
  },
  {
   "cell_type": "code",
   "execution_count": 1,
   "metadata": {},
   "outputs": [
    {
     "name": "stdout",
     "output_type": "stream",
     "text": [
      "['trek', 'cannondale', 'redline', 'specialized']\n"
     ]
    }
   ],
   "source": [
    "#3.1 リストを作る\n",
    "bicycles = ['trek','cannondale','redline','specialized']\n",
    "print(bicycles)"
   ]
  },
  {
   "cell_type": "code",
   "execution_count": 3,
   "metadata": {},
   "outputs": [
    {
     "name": "stdout",
     "output_type": "stream",
     "text": [
      "trek\n",
      "Trek\n"
     ]
    }
   ],
   "source": [
    "#3.2 リストの要素（访问）\n",
    "print(bicycles[0])\n",
    "\n",
    "#文字列に対する処理も可能\n",
    "print(bicycles[0].title())\n"
   ]
  },
  {
   "attachments": {},
   "cell_type": "markdown",
   "metadata": {},
   "source": [
    "リスクの順番は,0から\n",
    "索引是从0开始的 "
   ]
  },
  {
   "cell_type": "code",
   "execution_count": 6,
   "metadata": {},
   "outputs": [
    {
     "name": "stdout",
     "output_type": "stream",
     "text": [
      "trek\n",
      "cannondale\n",
      "redline\n",
      "specialized\n",
      "specialized\n"
     ]
    }
   ],
   "source": [
    "#3.1.2\n",
    "print(bicycles[0])\n",
    "print(bicycles[1])\n",
    "print(bicycles[2])\n",
    "print(bicycles[3])\n",
    "print(bicycles[-1])"
   ]
  },
  {
   "cell_type": "code",
   "execution_count": 7,
   "metadata": {},
   "outputs": [
    {
     "name": "stdout",
     "output_type": "stream",
     "text": [
      "My first bicycle was a Trek.\n"
     ]
    }
   ],
   "source": [
    "#3.1.3　リスクの値への処理\n",
    "message = f\"My first bicycle was a {bicycles[0].title()}.\"\n",
    "print(message)"
   ]
  },
  {
   "cell_type": "code",
   "execution_count": 8,
   "metadata": {},
   "outputs": [
    {
     "name": "stdout",
     "output_type": "stream",
     "text": [
      "yang\n",
      "moli\n",
      "yamada\n"
     ]
    }
   ],
   "source": [
    "#演習3-1\n",
    "names = ['yang','moli','yamada']\n",
    "print(names[0])\n",
    "print(names[1])\n",
    "print(names[2])\n"
   ]
  },
  {
   "cell_type": "code",
   "execution_count": 10,
   "metadata": {},
   "outputs": [
    {
     "name": "stdout",
     "output_type": "stream",
     "text": [
      "Yangくん，明けましておめでとう～今年もよろしくお願いします．\n",
      "Moliくん，明けましておめでとう～今年もよろしくお願いします．\n",
      "Yamadaくん，明けましておめでとう～今年もよろしくお願いします．\n"
     ]
    }
   ],
   "source": [
    "#演習3-2\n",
    "for name in names:\n",
    "    print(f'{name.title()}くん，明けましておめでとう～今年もよろしくお願いします．')"
   ]
  },
  {
   "cell_type": "code",
   "execution_count": 12,
   "metadata": {},
   "outputs": [
    {
     "name": "stdout",
     "output_type": "stream",
     "text": [
      "I would like to go school by foot\n"
     ]
    }
   ],
   "source": [
    "#演習3-3\n",
    "ways = ['foot','car','subway']\n",
    "print(f'I would like to go school by {ways[0]}')"
   ]
  },
  {
   "attachments": {},
   "cell_type": "markdown",
   "metadata": {},
   "source": [
    "# 3.2 要素の修正，添加，削除"
   ]
  },
  {
   "cell_type": "code",
   "execution_count": 13,
   "metadata": {},
   "outputs": [
    {
     "name": "stdout",
     "output_type": "stream",
     "text": [
      "['honda', 'yamaha', 'suzuki']\n",
      "['ducati', 'yamaha', 'suzuki']\n"
     ]
    }
   ],
   "source": [
    "#3.2.1 リスクの要素の修正\n",
    "motorcyceles = ['honda', 'yamaha', 'suzuki']\n",
    "print(motorcyceles)\n",
    "\n",
    "motorcyceles[0] = 'ducati'\n",
    "print(motorcyceles)"
   ]
  },
  {
   "cell_type": "code",
   "execution_count": 14,
   "metadata": {},
   "outputs": [
    {
     "name": "stdout",
     "output_type": "stream",
     "text": [
      "['ducati', 'yamaha', 'suzuki', 'honda']\n"
     ]
    }
   ],
   "source": [
    "#3.2.2 リスクの要素の添加\n",
    "motorcyceles.append('honda')\n",
    "print(motorcyceles)\n",
    "#.appendは，リスクの最後に要素を加える．"
   ]
  },
  {
   "cell_type": "code",
   "execution_count": 16,
   "metadata": {},
   "outputs": [
    {
     "name": "stdout",
     "output_type": "stream",
     "text": [
      "['honda', 'honda1', 'honda2']\n"
     ]
    }
   ],
   "source": [
    "#appendで，自由にリスクを作れる．\n",
    "motorcyceles = []\n",
    "motorcyceles.append('honda')\n",
    "motorcyceles.append('honda1')\n",
    "motorcyceles.append('honda2')\n",
    "print(motorcyceles)\n"
   ]
  },
  {
   "cell_type": "code",
   "execution_count": 17,
   "metadata": {},
   "outputs": [
    {
     "name": "stdout",
     "output_type": "stream",
     "text": [
      "['ducati', 'honda', 'yamaha', 'suzuki']\n"
     ]
    }
   ],
   "source": [
    "#リスクの途中に要素を加える．\n",
    "motorcyceles = ['honda', 'yamaha', 'suzuki']\n",
    "motorcyceles.insert(0,'ducati')\n",
    "print(motorcyceles)\n",
    "#.insertは，リスクの途中に要素を加えるが．その番号と値が必要"
   ]
  },
  {
   "cell_type": "code",
   "execution_count": 18,
   "metadata": {},
   "outputs": [
    {
     "name": "stdout",
     "output_type": "stream",
     "text": [
      "['yamaha', 'suzuki']\n"
     ]
    }
   ],
   "source": [
    "#3.2.3 リストの要素を削除する\n",
    "motorcyceles = ['honda', 'yamaha', 'suzuki']\n",
    "del motorcyceles[0]\n",
    "print(motorcyceles)\n",
    "#delは，削除したい要素の番号を分かった場合に用いる．"
   ]
  },
  {
   "cell_type": "code",
   "execution_count": 21,
   "metadata": {},
   "outputs": [
    {
     "name": "stdout",
     "output_type": "stream",
     "text": [
      "suzuki\n",
      "['honda', 'yamaha']\n"
     ]
    }
   ],
   "source": [
    "#pop()削除された要素を利用したい場合に用いる\n",
    "#スタック(stack,栈)に基づき，リストがスタックのように，.pop()は出したスタックの一番先の要素．\n",
    "motorcyceles = ['honda', 'yamaha', 'suzuki']\n",
    "mine = motorcyceles.pop()\n",
    "print(mine)\n",
    "print(motorcyceles)\n"
   ]
  },
  {
   "cell_type": "code",
   "execution_count": 1,
   "metadata": {},
   "outputs": [
    {
     "name": "stdout",
     "output_type": "stream",
     "text": [
      "The first motorcycle I owned was a Yamaha.\n"
     ]
    }
   ],
   "source": [
    "#pop()で，任意番号の要素を取り出すことができる．括弧に番号を入力するだけで．\n",
    "motorcyceles = ['honda', 'yamaha', 'suzuki']\n",
    "first_owned = motorcyceles.pop(1)\n",
    "print(f\"The first motorcycle I owned was a {first_owned.title()}.\")"
   ]
  },
  {
   "attachments": {},
   "cell_type": "markdown",
   "metadata": {},
   "source": [
    "del or pop()?\n",
    "\n",
    "if you want to delet a data from the list and don't use it in any way, use the 'del'\n",
    "if you want to continue to use it after deleting the date use the 'pop'"
   ]
  },
  {
   "cell_type": "code",
   "execution_count": 2,
   "metadata": {},
   "outputs": [
    {
     "name": "stdout",
     "output_type": "stream",
     "text": [
      "['honda', 'suzuki', 'ducati']\n"
     ]
    }
   ],
   "source": [
    "#値により，リスクの要素の削除　remove()\n",
    "motorcyceles = ['honda', 'yamaha', 'suzuki', 'ducati']\n",
    "motorcyceles.remove('yamaha')\n",
    "print(motorcyceles)\n"
   ]
  },
  {
   "cell_type": "code",
   "execution_count": 4,
   "metadata": {},
   "outputs": [
    {
     "name": "stdout",
     "output_type": "stream",
     "text": [
      "['honda', 'suzuki', 'ducati']\n",
      "\n",
      "A Yamaha is too expensive for me.\n"
     ]
    }
   ],
   "source": [
    "#remove()により，削除してから値を使える．\n",
    "motorcyceles = ['honda', 'yamaha', 'suzuki', 'ducati']\n",
    "too_expensive = 'yamaha'\n",
    "motorcyceles.remove(too_expensive)\n",
    "print(motorcyceles)\n",
    "print(f'\\nA {too_expensive.title()} is too expensive for me.')\n"
   ]
  },
  {
   "attachments": {},
   "cell_type": "markdown",
   "metadata": {},
   "source": [
    "Note:\n",
    "'remove' can only delet the first data. If you want to delet the same value multiple times in the list, you need to use a loop that each value can be removed."
   ]
  },
  {
   "cell_type": "code",
   "execution_count": 1,
   "metadata": {},
   "outputs": [
    {
     "name": "stdout",
     "output_type": "stream",
     "text": [
      "Mori Yuto,May I have dinner with you?\n",
      "Yamada Yatsuya,May I have dinner with you?\n",
      "Aizawa Kaori,May I have dinner with you?\n"
     ]
    }
   ],
   "source": [
    "#演習3-4\n",
    "names = ['mori yuto', 'yamada yatsuya', 'aizawa kaori']\n",
    "for name in names:\n",
    "    print(f'{name.title()},May I have dinner with you?')"
   ]
  },
  {
   "cell_type": "code",
   "execution_count": 2,
   "metadata": {},
   "outputs": [
    {
     "name": "stdout",
     "output_type": "stream",
     "text": [
      "Aizawa Kaori can't come. \n",
      "Mori Yuto,May I have dinner with you?\n",
      "Yamada Yatsuya,May I have dinner with you?\n",
      "Murasaki Haruka,May I have dinner with you?\n"
     ]
    }
   ],
   "source": [
    "#演習3-5\n",
    "names = ['mori yuto', 'yamada yatsuya', 'aizawa kaori']\n",
    "\n",
    "er = names.pop()\n",
    "print(f\"{er.title()} can't come. \")\n",
    "\n",
    "names.append('murasaki haruka')\n",
    "\n",
    "for name in names:\n",
    "    print(f'{name.title()},May I have dinner with you?')"
   ]
  },
  {
   "cell_type": "code",
   "execution_count": 5,
   "metadata": {},
   "outputs": [
    {
     "name": "stdout",
     "output_type": "stream",
     "text": [
      "Aizawa Kaori can't come. \n",
      "I find a bigger table for dinner.\n",
      "Yang Zhengda,May I have dinner with you?\n",
      "Mori Yuto,May I have dinner with you?\n",
      "Itakura Haru,May I have dinner with you?\n",
      "Yamada Yatsuya,May I have dinner with you?\n",
      "Murasaki Haruka,May I have dinner with you?\n",
      "Horie Shin,May I have dinner with you?\n"
     ]
    }
   ],
   "source": [
    "#演習3-6\n",
    "names = ['mori yuto', 'yamada yatsuya', 'aizawa kaori']\n",
    "\n",
    "er = names.pop()\n",
    "print(f\"{er.title()} can't come. \")\n",
    "\n",
    "names.append('murasaki haruka')\n",
    "\n",
    "print('I find a bigger table for dinner.')\n",
    "\n",
    "names.insert(0,'yang zhengda')\n",
    "names.insert(2,'itakura haru')\n",
    "names.append('horie shin')\n",
    "\n",
    "for name in names:\n",
    "    print(f'{name.title()},May I have dinner with you?')"
   ]
  },
  {
   "cell_type": "code",
   "execution_count": 10,
   "metadata": {},
   "outputs": [
    {
     "name": "stdout",
     "output_type": "stream",
     "text": [
      "Aizawa Kaori can't come. \n",
      "I find a bigger table for dinner.\n",
      "I'm sorry for that the new dining table not be delivered in time, Only 2 guests can be invited.\n",
      "I sorry. Horie Shin,we can't have dinner together.\n",
      "I sorry. Murasaki Haruka,we can't have dinner together.\n",
      "I sorry. Yamada Yatsuya,we can't have dinner together.\n",
      "I sorry. Itakura Haru,we can't have dinner together.\n",
      "Yang Zhengda,May I have dinner with you?\n",
      "Mori Yuto,May I have dinner with you?\n",
      "[]\n"
     ]
    }
   ],
   "source": [
    "#演習3-7\n",
    "names = ['mori yuto', 'yamada yatsuya', 'aizawa kaori']\n",
    "\n",
    "er = names.pop()\n",
    "print(f\"{er.title()} can't come. \")\n",
    "\n",
    "names.append('murasaki haruka')\n",
    "\n",
    "print('I find a bigger table for dinner.')\n",
    "\n",
    "names.insert(0,'yang zhengda')\n",
    "names.insert(2,'itakura haru')\n",
    "names.append('horie shin')\n",
    "\n",
    "print(\"I'm sorry for that the new dining table not be delivered in time, Only 2 guests can be invited.\")\n",
    "\n",
    "while len(names) > 2 :\n",
    "    Not_inviter = names.pop()\n",
    "    print(f\"I sorry. {Not_inviter.title()},we can't have dinner together.\")\n",
    "    \n",
    "for name in names:\n",
    "    print(f'{name.title()},May I have dinner with you?')\n",
    "    \n",
    "while len(names)!=0 :\n",
    "    del names[0]\n",
    "    \n",
    "print(names)\n"
   ]
  },
  {
   "attachments": {},
   "cell_type": "markdown",
   "metadata": {},
   "source": [
    "# 3.3 リストの並べ替え(ソート)"
   ]
  },
  {
   "cell_type": "code",
   "execution_count": 12,
   "metadata": {},
   "outputs": [
    {
     "name": "stdout",
     "output_type": "stream",
     "text": [
      "['audi', 'bmw', 'subaru', 'toyota']\n"
     ]
    }
   ],
   "source": [
    "#3.3.1 sort()で永久的にリストを並べ替える\n",
    "cars = [\"bmw\",  \"audi\", \"toyota\",\"subaru\"]\n",
    "cars.sort()\n",
    "print(cars)\n",
    "#永久的にアルファベット順に並べ替えた，元に戻れない"
   ]
  },
  {
   "cell_type": "code",
   "execution_count": 1,
   "metadata": {},
   "outputs": [
    {
     "name": "stdout",
     "output_type": "stream",
     "text": [
      "['toyota', 'subaru', 'bmw', 'audi']\n"
     ]
    }
   ],
   "source": [
    "#アルファベット逆順に並べ替える\n",
    "cars = [\"bmw\",  \"audi\", \"toyota\",\"subaru\"]\n",
    "cars.sort(reverse=True)\n",
    "print(cars)"
   ]
  },
  {
   "cell_type": "code",
   "execution_count": 2,
   "metadata": {},
   "outputs": [
    {
     "name": "stdout",
     "output_type": "stream",
     "text": [
      "original:\n",
      "['bmw', 'audi', 'toyota', 'subaru']\n",
      "\n",
      "the sorted:\n",
      "['audi', 'bmw', 'subaru', 'toyota']\n",
      "\n",
      "original:\n",
      "['bmw', 'audi', 'toyota', 'subaru']\n"
     ]
    }
   ],
   "source": [
    "#3.3.2 sorted()で臨時的にリストを並べ替える\n",
    "cars = [\"bmw\",  \"audi\", \"toyota\",\"subaru\"]\n",
    "print(\"original:\")\n",
    "print(cars)\n",
    "print(\"\\nthe sorted:\")\n",
    "print( sorted(cars) )\n",
    "print(\"\\noriginal:\")\n",
    "print(cars)"
   ]
  },
  {
   "attachments": {},
   "cell_type": "markdown",
   "metadata": {},
   "source": [
    "*** 注意 ***\n",
    "大文字と小文字が同時ある時，複雑になる．"
   ]
  },
  {
   "cell_type": "code",
   "execution_count": 4,
   "metadata": {},
   "outputs": [
    {
     "name": "stdout",
     "output_type": "stream",
     "text": [
      "['Biyadi', 'audi', 'bmw', 'subaru', 'toyota']\n"
     ]
    }
   ],
   "source": [
    "#例として\n",
    "cars = [\"bmw\",  \"audi\", \"toyota\",\"subaru\",\"Biyadi\"]\n",
    "cars.sort()\n",
    "print(cars)"
   ]
  },
  {
   "cell_type": "code",
   "execution_count": 5,
   "metadata": {},
   "outputs": [
    {
     "name": "stdout",
     "output_type": "stream",
     "text": [
      "['bmw', 'audi', 'toyota', 'subaru']\n",
      "['subaru', 'toyota', 'audi', 'bmw']\n"
     ]
    }
   ],
   "source": [
    "#3.3.3 リストの反転 reverse()\n",
    "cars = [\"bmw\",  \"audi\", \"toyota\",\"subaru\"]\n",
    "print(cars)\n",
    "cars.reverse()\n",
    "print(cars)\n",
    "#注意：単なる元の行列を順位を反転する\n",
    "#reverse()は，永久的にリストを反転する，また，戻す時にもう一回reverse()で良い."
   ]
  },
  {
   "cell_type": "code",
   "execution_count": 6,
   "metadata": {},
   "outputs": [
    {
     "name": "stdout",
     "output_type": "stream",
     "text": [
      "4\n"
     ]
    }
   ],
   "source": [
    "#3.3.4 リストの長さ len()\n",
    "cars = [\"bmw\",  \"audi\", \"toyota\",\"subaru\"]\n",
    "print(len(cars))\n",
    "#リストの長さを確認することは，大事だ．"
   ]
  },
  {
   "cell_type": "code",
   "execution_count": 7,
   "metadata": {},
   "outputs": [
    {
     "name": "stdout",
     "output_type": "stream",
     "text": [
      "0\n"
     ]
    }
   ],
   "source": [
    "cars = []\n",
    "print(len(cars))"
   ]
  },
  {
   "cell_type": "code",
   "execution_count": 10,
   "metadata": {},
   "outputs": [
    {
     "name": "stdout",
     "output_type": "stream",
     "text": [
      "['h北海道', 'k鎌倉', 'o沖縄', 't京都', 'y横浜']\n",
      "['h北海道', 'k鎌倉', 't京都', 'y横浜', 'o沖縄']\n",
      "['y横浜', 't京都', 'o沖縄', 'k鎌倉', 'h北海道']\n",
      "['h北海道', 'k鎌倉', 't京都', 'y横浜', 'o沖縄']\n",
      "['o沖縄', 'y横浜', 't京都', 'k鎌倉', 'h北海道']\n",
      "['h北海道', 'k鎌倉', 't京都', 'y横浜', 'o沖縄']\n",
      "['h北海道', 'k鎌倉', 'o沖縄', 't京都', 'y横浜']\n",
      "['y横浜', 't京都', 'o沖縄', 'k鎌倉', 'h北海道']\n"
     ]
    }
   ],
   "source": [
    "#演習3-8\n",
    "place = [\"h北海道\", \"k鎌倉\", \"t京都\", \"y横浜\", \"o沖縄\"]\n",
    "print(sorted(place))\n",
    "print(place)\n",
    "print(sorted(place,reverse=True))\n",
    "print(place)\n",
    "place.reverse()\n",
    "print(place)\n",
    "place.reverse()\n",
    "print(place)\n",
    "place.sort()\n",
    "print(place)\n",
    "place.sort(reverse=True)\n",
    "print(place)"
   ]
  },
  {
   "cell_type": "code",
   "execution_count": 13,
   "metadata": {},
   "outputs": [
    {
     "name": "stdout",
     "output_type": "stream",
     "text": [
      "Aizawa Kaori can't come. \n",
      "I find a bigger table for dinner.\n",
      "I'm sorry for that the new dining table not be delivered in time, Only 2 guests can be invited.\n",
      "I sorry. Horie Shin,we can't have dinner together.\n",
      "I sorry. Murasaki Haruka,we can't have dinner together.\n",
      "I sorry. Yamada Yatsuya,we can't have dinner together.\n",
      "I sorry. Itakura Haru,we can't have dinner together.\n",
      "Yang Zhengda,May I have dinner with you?\n",
      "Mori Yuto,May I have dinner with you?\n",
      "Today I will invit 2 guests.\n",
      "[]\n"
     ]
    }
   ],
   "source": [
    "#演習3-9\n",
    "names = ['mori yuto', 'yamada yatsuya', 'aizawa kaori']\n",
    "\n",
    "er = names.pop()\n",
    "print(f\"{er.title()} can't come. \")\n",
    "\n",
    "names.append('murasaki haruka')\n",
    "\n",
    "print('I find a bigger table for dinner.')\n",
    "\n",
    "names.insert(0,'yang zhengda')\n",
    "names.insert(2,'itakura haru')\n",
    "names.append('horie shin')\n",
    "\n",
    "print(\"I'm sorry for that the new dining table not be delivered in time, Only 2 guests can be invited.\")\n",
    "\n",
    "while len(names) > 2 :\n",
    "    Not_inviter = names.pop()\n",
    "    print(f\"I sorry. {Not_inviter.title()},we can't have dinner together.\")\n",
    "    \n",
    "for name in names:\n",
    "    print(f'{name.title()},May I have dinner with you?')\n",
    "    \n",
    "print(f\"Today I will invit {len(names)} guests.\")\n",
    "\n",
    "while len(names)!=0 :\n",
    "    del names[0]\n",
    "print(names)"
   ]
  },
  {
   "cell_type": "code",
   "execution_count": 15,
   "metadata": {},
   "outputs": [
    {
     "name": "stdout",
     "output_type": "stream",
     "text": [
      "['Japan', 'United States', 'France', 'Russia', 'India', 'China']\n",
      "['Japan', 'Engliand', 'United States', 'France', 'Russia', 'India', 'China']\n",
      "['Japan', 'Engliand', 'United States', 'France', 'Russia', 'India']\n",
      "India\n",
      "['Japan', 'Engliand', 'United States', 'France', 'Russia']\n",
      "Japan\n",
      "['Engliand', 'United States', 'France', 'Russia']\n",
      "['United States', 'France', 'Russia']\n",
      "['United States', 'France', 'Russia']\n",
      "3\n",
      "['France', 'Russia', 'United States']\n",
      "['United States', 'France', 'Russia']\n",
      "['United States', 'Russia', 'France']\n",
      "['United States', 'France', 'Russia']\n",
      "['Russia', 'France', 'United States']\n",
      "['France', 'Russia', 'United States']\n",
      "['United States', 'Russia', 'France']\n"
     ]
    }
   ],
   "source": [
    "#演習3—10\n",
    "Country = [\"Japan\", \"United States\", \"France\", \"Russia\", \"India\"]\n",
    "My_Country = \"China\"\n",
    "Country.append(My_Country)#リストの最後に加える\n",
    "print(Country)\n",
    "Country.insert(1, \"Engliand\")#リストの中間に加える\n",
    "print(Country)\n",
    "del Country[-1]#リストの要素を削除\n",
    "print(Country)\n",
    "now1 = Country.pop()#スタックstack削除\n",
    "print(now1)\n",
    "print(Country)\n",
    "now2 = Country.pop(0)#要素を削除しながら，関数のretrun値として使う\n",
    "print(now2)\n",
    "print(Country)\n",
    "Country.remove(\"Engliand\")#値を指定し削除する\n",
    "print(Country)\n",
    "\n",
    "print(len(Country))#リストの長さ\n",
    "print(sorted(Country))#臨時的に並べ替え\n",
    "print(Country)\n",
    "print(sorted(Country,reverse=True))#臨時的に逆並べ替え\n",
    "print(Country)\n",
    "Country.reverse()#リストの反転\n",
    "print(Country)\n",
    "Country.sort()#永久的に並べ替え\n",
    "print(Country)\n",
    "Country.sort(reverse=True)#永久的に逆順並べ替え\n",
    "print(Country)"
   ]
  },
  {
   "cell_type": "code",
   "execution_count": 16,
   "metadata": {},
   "outputs": [
    {
     "ename": "IndexError",
     "evalue": "list index out of range",
     "output_type": "error",
     "traceback": [
      "\u001b[1;31m---------------------------------------------------------------------------\u001b[0m",
      "\u001b[1;31mIndexError\u001b[0m                                Traceback (most recent call last)",
      "\u001b[1;32mc:\\YANG\\Books\\Reading-books_and_note\\Python_Crash_Course,2nd_Edition\\3.ipynb Cell 39\u001b[0m in \u001b[0;36m<cell line: 4>\u001b[1;34m()\u001b[0m\n\u001b[0;32m      <a href='vscode-notebook-cell:/c%3A/YANG/Books/Reading-books_and_note/Python_Crash_Course%2C2nd_Edition/3.ipynb#X54sZmlsZQ%3D%3D?line=0'>1</a>\u001b[0m \u001b[39m#3.4　indexの誤差を避ける\u001b[39;00m\n\u001b[0;32m      <a href='vscode-notebook-cell:/c%3A/YANG/Books/Reading-books_and_note/Python_Crash_Course%2C2nd_Edition/3.ipynb#X54sZmlsZQ%3D%3D?line=1'>2</a>\u001b[0m \u001b[39m#例として，三つの要素があるリストに対して，四つ目の要素を処理するコードがerrorを生じる．\u001b[39;00m\n\u001b[0;32m      <a href='vscode-notebook-cell:/c%3A/YANG/Books/Reading-books_and_note/Python_Crash_Course%2C2nd_Edition/3.ipynb#X54sZmlsZQ%3D%3D?line=2'>3</a>\u001b[0m motorcyceles \u001b[39m=\u001b[39m [\u001b[39m'\u001b[39m\u001b[39mhonda\u001b[39m\u001b[39m'\u001b[39m, \u001b[39m'\u001b[39m\u001b[39myamaha\u001b[39m\u001b[39m'\u001b[39m, \u001b[39m'\u001b[39m\u001b[39msuzuki\u001b[39m\u001b[39m'\u001b[39m]\n\u001b[1;32m----> <a href='vscode-notebook-cell:/c%3A/YANG/Books/Reading-books_and_note/Python_Crash_Course%2C2nd_Edition/3.ipynb#X54sZmlsZQ%3D%3D?line=3'>4</a>\u001b[0m \u001b[39mprint\u001b[39m(motorcyceles[\u001b[39m3\u001b[39;49m])\n",
      "\u001b[1;31mIndexError\u001b[0m: list index out of range"
     ]
    }
   ],
   "source": [
    "#3.4　indexの誤差を避ける\n",
    "#演習3-11\n",
    "#例として，三つの要素があるリストに対して，四つ目の要素を処理するコードがerrorを生じる．\n",
    "motorcyceles = ['honda', 'yamaha', 'suzuki']\n",
    "print(motorcyceles[3])\n",
    "#list index out of range"
   ]
  },
  {
   "attachments": {},
   "cell_type": "markdown",
   "metadata": {},
   "source": [
    "**index[-1]はリストの最後の要素**"
   ]
  },
  {
   "cell_type": "code",
   "execution_count": null,
   "metadata": {},
   "outputs": [],
   "source": [
    "\n"
   ]
  }
 ],
 "metadata": {
  "kernelspec": {
   "display_name": "Python 3",
   "language": "python",
   "name": "python3"
  },
  "language_info": {
   "codemirror_mode": {
    "name": "ipython",
    "version": 3
   },
   "file_extension": ".py",
   "mimetype": "text/x-python",
   "name": "python",
   "nbconvert_exporter": "python",
   "pygments_lexer": "ipython3",
   "version": "3.10.5 (tags/v3.10.5:f377153, Jun  6 2022, 16:14:13) [MSC v.1929 64 bit (AMD64)]"
  },
  "orig_nbformat": 4,
  "vscode": {
   "interpreter": {
    "hash": "238fe4af9a3ef1dbe73a153de40f9e87630483c1268a53a7d6ae4ef57e9f4eb7"
   }
  }
 },
 "nbformat": 4,
 "nbformat_minor": 2
}
