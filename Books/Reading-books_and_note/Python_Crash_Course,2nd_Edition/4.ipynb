{
 "cells": [
  {
   "cell_type": "markdown",
   "metadata": {},
   "source": [
    "# 第四章 操作列表"
   ]
  },
  {
   "cell_type": "code",
   "execution_count": 1,
   "metadata": {},
   "outputs": [
    {
     "name": "stdout",
     "output_type": "stream",
     "text": [
      "alice\n",
      "daviid\n",
      "carolina\n"
     ]
    }
   ],
   "source": [
    "#4.1 历遍整个列表\n",
    "magicians = ['alice', 'daviid', 'carolina']\n",
    "for magician in magicians:\n",
    "    print(magician)"
   ]
  },
  {
   "attachments": {},
   "cell_type": "markdown",
   "metadata": {},
   "source": [
    "### 理解for循环的意义！！！\n"
   ]
  },
  {
   "cell_type": "code",
   "execution_count": 5,
   "metadata": {},
   "outputs": [
    {
     "name": "stdout",
     "output_type": "stream",
     "text": [
      "Alice, that was a great trick.\n",
      "I can't wait to see your next trick, Alice.\n",
      "\n",
      "Daviid, that was a great trick.\n",
      "I can't wait to see your next trick, Daviid.\n",
      "\n",
      "Carolina, that was a great trick.\n",
      "I can't wait to see your next trick, Carolina.\n",
      "\n",
      "Thank you, everyone. That was a great magic show!\n"
     ]
    }
   ],
   "source": [
    "#4.1.2 for循環の中で多くの処理を行う\n",
    "magicians = ['alice', 'daviid', 'carolina']\n",
    "for magician in magicians:\n",
    "    print( f'{magician.title()}, that was a great trick.')\n",
    "    print( f\"I can't wait to see your next trick, {magician.title()}.\\n\")\n",
    "print(\"Thank you, everyone. That was a great magic show!\")"
   ]
  },
  {
   "attachments": {},
   "cell_type": "markdown",
   "metadata": {},
   "source": [
    "**避免缩进错误! TAB**"
   ]
  },
  {
   "attachments": {},
   "cell_type": "markdown",
   "metadata": {},
   "source": [
    "## 4.2.3 避免不必要的缩进"
   ]
  },
  {
   "cell_type": "code",
   "execution_count": 6,
   "metadata": {},
   "outputs": [
    {
     "ename": "IndentationError",
     "evalue": "unexpected indent (2356937620.py, line 2)",
     "output_type": "error",
     "traceback": [
      "\u001b[1;36m  Input \u001b[1;32mIn [6]\u001b[1;36m\u001b[0m\n\u001b[1;33m    print(message)\u001b[0m\n\u001b[1;37m    ^\u001b[0m\n\u001b[1;31mIndentationError\u001b[0m\u001b[1;31m:\u001b[0m unexpected indent\n"
     ]
    }
   ],
   "source": [
    "message = 'Hello'\n",
    "    print(message)"
   ]
  },
  {
   "attachments": {},
   "cell_type": "markdown",
   "metadata": {},
   "source": [
    "## 4.2.5 遗漏了冒号"
   ]
  },
  {
   "cell_type": "code",
   "execution_count": 7,
   "metadata": {},
   "outputs": [
    {
     "ename": "SyntaxError",
     "evalue": "expected ':' (3544454637.py, line 2)",
     "output_type": "error",
     "traceback": [
      "\u001b[1;36m  Input \u001b[1;32mIn [7]\u001b[1;36m\u001b[0m\n\u001b[1;33m    for magician in magicians\u001b[0m\n\u001b[1;37m                             ^\u001b[0m\n\u001b[1;31mSyntaxError\u001b[0m\u001b[1;31m:\u001b[0m expected ':'\n"
     ]
    }
   ],
   "source": [
    "magicians = ['alice', 'daviid', 'carolina']\n",
    "for magician in magicians\n",
    "    print( f'{magician.title()}, that was a great trick.')"
   ]
  },
  {
   "cell_type": "code",
   "execution_count": 9,
   "metadata": {},
   "outputs": [
    {
     "name": "stdout",
     "output_type": "stream",
     "text": [
      "I like Zeroda.\n",
      "I like Genshin.\n",
      "I like Persona5R.\n",
      "I like to play games.\n"
     ]
    }
   ],
   "source": [
    "#演習4-1\n",
    "games = ['zeroda', 'genshin', 'persona5R']\n",
    "for game in games:\n",
    "    print(f'I like {game.title()}.')\n",
    "print('I like to play games.')"
   ]
  },
  {
   "cell_type": "code",
   "execution_count": 10,
   "metadata": {},
   "outputs": [
    {
     "name": "stdout",
     "output_type": "stream",
     "text": [
      "A cat make a great pet.\n",
      "A dog make a great pet.\n",
      "A bird make a great pet.\n",
      "Any of these animals would make a great pet.\n"
     ]
    }
   ],
   "source": [
    "#演習4-2\n",
    "animals = ['cat', 'dog', 'bird']\n",
    "for animal in animals:\n",
    "    print(f'A {animal} make a great pet.')\n",
    "print('Any of these animals would make a great pet.')"
   ]
  },
  {
   "attachments": {},
   "cell_type": "markdown",
   "metadata": {},
   "source": [
    "## 4.3 数値リストを作ろう"
   ]
  }
 ],
 "metadata": {
  "kernelspec": {
   "display_name": "Python 3",
   "language": "python",
   "name": "python3"
  },
  "language_info": {
   "codemirror_mode": {
    "name": "ipython",
    "version": 3
   },
   "file_extension": ".py",
   "mimetype": "text/x-python",
   "name": "python",
   "nbconvert_exporter": "python",
   "pygments_lexer": "ipython3",
   "version": "3.10.5"
  },
  "orig_nbformat": 4,
  "vscode": {
   "interpreter": {
    "hash": "238fe4af9a3ef1dbe73a153de40f9e87630483c1268a53a7d6ae4ef57e9f4eb7"
   }
  }
 },
 "nbformat": 4,
 "nbformat_minor": 2
}
