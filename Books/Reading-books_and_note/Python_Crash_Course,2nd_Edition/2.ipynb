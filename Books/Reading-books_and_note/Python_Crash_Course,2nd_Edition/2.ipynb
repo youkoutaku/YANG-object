{
 "cells": [
  {
   "attachments": {},
   "cell_type": "markdown",
   "metadata": {},
   "source": [
    "# 第二章　変数とデータ型"
   ]
  },
  {
   "cell_type": "code",
   "execution_count": 1,
   "metadata": {},
   "outputs": [
    {
     "name": "stdout",
     "output_type": "stream",
     "text": [
      "Hello Python world!\n"
     ]
    }
   ],
   "source": [
    "#2.1 Hello Python world\n",
    "print(\"Hello Python world!\")"
   ]
  },
  {
   "cell_type": "code",
   "execution_count": 2,
   "metadata": {},
   "outputs": [
    {
     "name": "stdout",
     "output_type": "stream",
     "text": [
      "Hello Python world!\n"
     ]
    }
   ],
   "source": [
    "#2.2 変数\n",
    "m = \"Hello Python world!\" #変数名\n",
    "print(m)"
   ]
  },
  {
   "cell_type": "code",
   "execution_count": 3,
   "metadata": {},
   "outputs": [
    {
     "name": "stdout",
     "output_type": "stream",
     "text": [
      "YANG GUANGZE\n"
     ]
    }
   ],
   "source": [
    "#練習2-1\n",
    "a = \"YANG GUANGZE\"\n",
    "print(a)"
   ]
  },
  {
   "cell_type": "code",
   "execution_count": 4,
   "metadata": {},
   "outputs": [
    {
     "name": "stdout",
     "output_type": "stream",
     "text": [
      "YANG GUANGZE\n",
      "楊 広沢\n"
     ]
    }
   ],
   "source": [
    "#練習2-2\n",
    "a = \"YANG GUANGZE\"\n",
    "print(a)\n",
    "a = \"楊 広沢\"\n",
    "print(a)"
   ]
  },
  {
   "cell_type": "code",
   "execution_count": 5,
   "metadata": {},
   "outputs": [
    {
     "name": "stdout",
     "output_type": "stream",
     "text": [
      "YANG\n",
      "yang\n"
     ]
    }
   ],
   "source": [
    "#2.3 文字列\n",
    "a=\"YANG\"\n",
    "b='yang'\n",
    "print(a)\n",
    "print(b)"
   ]
  },
  {
   "cell_type": "code",
   "execution_count": 6,
   "metadata": {},
   "outputs": [
    {
     "name": "stdout",
     "output_type": "stream",
     "text": [
      "Y'A'NG\n",
      "y\"a\"ng\n"
     ]
    }
   ],
   "source": [
    "#符号重複を避ける\n",
    "a=\"Y'A'NG\"\n",
    "b='y\"a\"ng'\n",
    "print(a)\n",
    "print(b)"
   ]
  },
  {
   "cell_type": "code",
   "execution_count": 8,
   "metadata": {},
   "outputs": [
    {
     "name": "stdout",
     "output_type": "stream",
     "text": [
      "Yang Guangze\n"
     ]
    }
   ],
   "source": [
    "#2.3.1 文字列の先頭を大文字化にする\n",
    "name = 'yang guangze'\n",
    "print(name.title())\n",
    "#関数.title()"
   ]
  },
  {
   "cell_type": "code",
   "execution_count": 10,
   "metadata": {},
   "outputs": [
    {
     "name": "stdout",
     "output_type": "stream",
     "text": [
      "YANG GUANGZE\n",
      "yang guangze\n"
     ]
    }
   ],
   "source": [
    "#文字列を全て大文字化にする\n",
    "name = 'Yang Guangze'\n",
    "print(name.upper())\n",
    "#関数.upper()\n",
    "\n",
    "#文字列を全て小文字化にする\n",
    "print(name.lower())\n",
    "#関数.lower()"
   ]
  },
  {
   "cell_type": "code",
   "execution_count": 12,
   "metadata": {},
   "outputs": [
    {
     "name": "stdout",
     "output_type": "stream",
     "text": [
      "My first name is yang. and my last name is guangze.\n"
     ]
    }
   ],
   "source": [
    "#2.3.2 文字列の中に変数を使う\n",
    "first_name = 'yang'\n",
    "last_name = 'guangze'\n",
    "print(f\"My first name is {first_name}. and my last name is {last_name}.\")\n",
    "\n",
    "#f文字列はformat,変数に書き換えるためである．"
   ]
  },
  {
   "cell_type": "code",
   "execution_count": 15,
   "metadata": {},
   "outputs": [
    {
     "name": "stdout",
     "output_type": "stream",
     "text": [
      "Hello, Yang Guangze!\n"
     ]
    }
   ],
   "source": [
    "#f文字列は，多くの機能を使える.\n",
    "first_name = 'yang'\n",
    "last_name = 'guangze'\n",
    "full_name = f\"{first_name} {last_name}\"\n",
    "messsage = f\"Hello, {full_name.title()}!\"\n",
    "print(messsage)"
   ]
  },
  {
   "cell_type": "code",
   "execution_count": 4,
   "metadata": {},
   "outputs": [
    {
     "name": "stdout",
     "output_type": "stream",
     "text": [
      "Languages:\n",
      "python\n",
      "C\n",
      "JavaScript\n",
      "Languages:\n",
      "\tpython\n",
      "\tC\n",
      "\tJavaScript\n"
     ]
    }
   ],
   "source": [
    "#2.3.3空白のprint\n",
    "print(\"Languages:\\npython\\nC\\nJavaScript\")\n",
    "print(\"Languages:\\n\\tpython\\n\\tC\\n\\tJavaScript\")\n",
    "\n",
    "#\\t=[TAB]\n",
    "#\\n=[ENTER]"
   ]
  },
  {
   "cell_type": "code",
   "execution_count": 5,
   "metadata": {},
   "outputs": [
    {
     "name": "stdout",
     "output_type": "stream",
     "text": [
      "  python  \n",
      "  python\n",
      "python  \n",
      "python\n",
      "python\n"
     ]
    }
   ],
   "source": [
    "#2.3.4 空白キャンセル\n",
    "f_l = '  python  '\n",
    "print(f_l)\n",
    "print(f_l.rstrip())\n",
    "#rstrip()関数：文字列の末にある空白を除去する．\n",
    "print(f_l.lstrip())\n",
    "#lstrip()関数：文字列の先にある空白を除去する.\n",
    "print(f_l.strip())\n",
    "#strip()関数：文字列の前後になる空白を除去する.\n",
    "f_l=f_l.strip()\n",
    "print(f_l)\n",
    "#f_lの本体を変換する．\n",
    "\n"
   ]
  },
  {
   "cell_type": "code",
   "execution_count": 2,
   "metadata": {},
   "outputs": [
    {
     "name": "stdout",
     "output_type": "stream",
     "text": [
      "Hello yang guangze, would you like to learn some Python today?\n"
     ]
    }
   ],
   "source": [
    "#演習2-3\n",
    "name = 'yang guangze'\n",
    "print(f'Hello {name}, would you like to learn some Python today?')\n"
   ]
  },
  {
   "cell_type": "code",
   "execution_count": 5,
   "metadata": {},
   "outputs": [
    {
     "name": "stdout",
     "output_type": "stream",
     "text": [
      "Hello YANG GUANGZE, would you like to learn some Python today?\n",
      "Hello yang guangze, would you like to learn some Python today?\n",
      "Hello Yang Guangze, would you like to learn some Python today?\n"
     ]
    }
   ],
   "source": [
    "#演習2-3\n",
    "print(f'Hello {name.upper()}, would you like to learn some Python today?')\n",
    "print(f'Hello {name.lower()}, would you like to learn some Python today?')\n",
    "print(f'Hello {name.title()}, would you like to learn some Python today?')"
   ]
  },
  {
   "cell_type": "code",
   "execution_count": 6,
   "metadata": {},
   "outputs": [
    {
     "name": "stdout",
     "output_type": "stream",
     "text": [
      "Albert Einstein once said, \"A person who never made a mistake never tried anything new.\"\n"
     ]
    }
   ],
   "source": [
    "#演習2-5\n",
    "print('Albert Einstein once said, \"A person who never made a mistake never tried anything new.\"')"
   ]
  },
  {
   "cell_type": "code",
   "execution_count": 7,
   "metadata": {},
   "outputs": [
    {
     "name": "stdout",
     "output_type": "stream",
     "text": [
      "Alebert Einstein once said, \"A person who never made a mistake never tried anything new.\"\n"
     ]
    }
   ],
   "source": [
    "#演習2-6\n",
    "famous_person = 'Alebert Einstein'\n",
    "message = f'{famous_person} once said, \"A person who never made a mistake never tried anything new.\"'\n",
    "print(message)"
   ]
  },
  {
   "cell_type": "code",
   "execution_count": 11,
   "metadata": {},
   "outputs": [
    {
     "name": "stdout",
     "output_type": "stream",
     "text": [
      "\tAlebert Einstein\n",
      " once said, \"A person who never made a mistake never tried anything new.\"\n",
      "Alebert Einstein once said, \"A person who never made a mistake never tried anything new.\"\n",
      "\tAlebert Einstein once said, \"A person who never made a mistake never tried anything new.\"\n",
      "Alebert Einstein\n",
      " once said, \"A person who never made a mistake never tried anything new.\"\n"
     ]
    }
   ],
   "source": [
    "#演習2-7\n",
    "famous_person = '\\tAlebert Einstein\\n'\n",
    "message = f'{famous_person} once said, \"A person who never made a mistake never tried anything new.\"'\n",
    "print(message)\n",
    "\n",
    "message = f'{famous_person.strip()} once said, \"A person who never made a mistake never tried anything new.\"'\n",
    "print(message)\n",
    "\n",
    "message = f'{famous_person.rstrip()} once said, \"A person who never made a mistake never tried anything new.\"'\n",
    "print(message)\n",
    "\n",
    "message = f'{famous_person.lstrip()} once said, \"A person who never made a mistake never tried anything new.\"'\n",
    "print(message)\n"
   ]
  },
  {
   "cell_type": "code",
   "execution_count": 12,
   "metadata": {},
   "outputs": [
    {
     "name": "stdout",
     "output_type": "stream",
     "text": [
      "14000000000\n"
     ]
    }
   ],
   "source": [
    "#2.4数\n",
    "#2.4.3任意の二つの数で除算を行うと，結果はいつもfloatになる．\n",
    "#2.4.4数の中のアンダーライン(とても大きな数を使う時に，アンダーラインで分割できる．printに影響がない)\n",
    "num = 14_000_000_000\n",
    "print(num)\n",
    "\n"
   ]
  },
  {
   "cell_type": "code",
   "execution_count": 13,
   "metadata": {},
   "outputs": [
    {
     "name": "stdout",
     "output_type": "stream",
     "text": [
      "0 0 0\n"
     ]
    }
   ],
   "source": [
    "#2.4.5同時に変数への代入(順番に代入)\n",
    "x, y, z = 0, 0, 0\n",
    "print(x,y,z)\n",
    "\n",
    "#2.4.6定数(定数は常に全大文字の変数名として定義される)\n",
    "MAX_CONNECTIONS = 5000\n"
   ]
  },
  {
   "cell_type": "code",
   "execution_count": 15,
   "metadata": {},
   "outputs": [
    {
     "name": "stdout",
     "output_type": "stream",
     "text": [
      "8\n",
      "8\n",
      "8\n",
      "8\n"
     ]
    }
   ],
   "source": [
    "#演習2-8\n",
    "print(5+3)\n",
    "print(2*4)\n",
    "print(int(16/2))\n",
    "print(2**3)\n"
   ]
  },
  {
   "cell_type": "code",
   "execution_count": 16,
   "metadata": {},
   "outputs": [
    {
     "name": "stdout",
     "output_type": "stream",
     "text": [
      "9is my favorit numeber.\n"
     ]
    }
   ],
   "source": [
    "#演習2-9\n",
    "F_NUM = 9\n",
    "print(f'{F_NUM}is my favorit numeber.')"
   ]
  },
  {
   "cell_type": "code",
   "execution_count": null,
   "metadata": {},
   "outputs": [],
   "source": [
    "#2.5コメント(#)"
   ]
  }
 ],
 "metadata": {
  "kernelspec": {
   "display_name": "Python 3",
   "language": "python",
   "name": "python3"
  },
  "language_info": {
   "codemirror_mode": {
    "name": "ipython",
    "version": 3
   },
   "file_extension": ".py",
   "mimetype": "text/x-python",
   "name": "python",
   "nbconvert_exporter": "python",
   "pygments_lexer": "ipython3",
   "version": "3.10.5 (tags/v3.10.5:f377153, Jun  6 2022, 16:14:13) [MSC v.1929 64 bit (AMD64)]"
  },
  "orig_nbformat": 4,
  "vscode": {
   "interpreter": {
    "hash": "238fe4af9a3ef1dbe73a153de40f9e87630483c1268a53a7d6ae4ef57e9f4eb7"
   }
  }
 },
 "nbformat": 4,
 "nbformat_minor": 2
}
