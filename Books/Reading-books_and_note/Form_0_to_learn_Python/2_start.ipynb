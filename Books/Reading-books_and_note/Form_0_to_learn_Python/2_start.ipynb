{
 "cells": [
  {
   "cell_type": "code",
   "execution_count": null,
   "metadata": {},
   "outputs": [],
   "source": [
    "#2-1演算子\n",
    "b=(a:=2)*2"
   ]
  },
  {
   "cell_type": "code",
   "execution_count": null,
   "metadata": {},
   "outputs": [],
   "source": [
    "#変換型の変換\n",
    "a=int(24.1)\n",
    "b=float(3)\n",
    "c=str(68)\n",
    "print(a,b,c)"
   ]
  },
  {
   "cell_type": "code",
   "execution_count": null,
   "metadata": {},
   "outputs": [],
   "source": [
    "#2-2\n",
    "#文字列の連結\n",
    "frist='YANG'\n",
    "last='GUANGZE'\n",
    "name=frist+last\n",
    "print(name)\n",
    "print(name*5)\n",
    "print(name+str(a))"
   ]
  },
  {
   "cell_type": "code",
   "execution_count": null,
   "metadata": {},
   "outputs": [],
   "source": [
    "#フォーマット文字列\n",
    "print(f'I am {a} years old. I came to japan for {b} years')\n"
   ]
  },
  {
   "cell_type": "code",
   "execution_count": null,
   "metadata": {},
   "outputs": [],
   "source": [
    "#指数表現 2.5e4=2.5×10^4\n",
    "print(2.1e4)\n",
    "print(1.9e-4)"
   ]
  },
  {
   "cell_type": "code",
   "execution_count": null,
   "metadata": {},
   "outputs": [],
   "source": [
    "#2-3リスト\n",
    "scores = [50,55,60,65,70]\n",
    "type(scores)\n",
    "print(scores)\n"
   ]
  },
  {
   "cell_type": "code",
   "execution_count": null,
   "metadata": {},
   "outputs": [],
   "source": [
    "#リスト成分インデックス\n",
    "print(scores[0])\n",
    "print(scores[1])\n",
    "print(scores[2])"
   ]
  },
  {
   "cell_type": "code",
   "execution_count": null,
   "metadata": {},
   "outputs": [],
   "source": [
    "#末尾からのインデックス\n",
    "print(scores[-1])\n",
    "print(scores[-2])\n",
    "days=['Sun','Mon','Tue','Wed','Thu','Fri','Sat']\n",
    "print(len(days))\n"
   ]
  },
  {
   "cell_type": "code",
   "execution_count": null,
   "metadata": {},
   "outputs": [],
   "source": [
    "#2-4\n",
    "import math\n",
    "from re import I #module import\n",
    "print(math.sqrt(2))\n",
    "print(math.floor(3.1415926))\n",
    "print(math.sin(math.radians(30))) #sin(30 deg )"
   ]
  },
  {
   "cell_type": "code",
   "execution_count": null,
   "metadata": {},
   "outputs": [],
   "source": [
    "#math.定数\n",
    "#pi 円周率, e 自然対数の底\n",
    "r=5\n",
    "print(r*r*math.pi)\n"
   ]
  },
  {
   "cell_type": "code",
   "execution_count": null,
   "metadata": {},
   "outputs": [],
   "source": [
    "import random\n",
    "#乱数のモジュール\n",
    "\n",
    "#randint(a,b) a以上b以下のランダムな整数を返す\n",
    "a=1\n",
    "b=100\n",
    "c=random.randint(a,b)\n",
    "print(c)\n",
    "\n",
    "#random.choice() リストや複数などの中からランダムに選択する\n",
    "janken=['a','b','c']\n",
    "d=random.choice(janken)\n",
    "print(d)\n",
    "\n",
    "#random.randrange(x) 0からx-1までのランダムな整数を返す\n",
    "#random() oから1までランダムなfloat数"
   ]
  },
  {
   "cell_type": "code",
   "execution_count": null,
   "metadata": {},
   "outputs": [],
   "source": [
    "#モジュールに別名をつけて使う  import モジュール名　as 別名\n",
    "import math as m\n",
    "print(m.sqrt(2))\n",
    "\n",
    "#単位関数でのimport. from モジュール名 import 関数  \n",
    "from math import sqrt\n",
    "print(sqrt(2))\n",
    "#単位関数でのimportにより，モジュール名を書かずに関数を直接に使えるようになるs\n",
    "\n",
    "from math import sqrt, sin, cos\n",
    "#複数関数でのimport\n",
    "\n",
    "from math import *\n",
    "#全ての関数や定数のimport"
   ]
  }
 ],
 "metadata": {
  "kernelspec": {
   "display_name": "Python 3",
   "language": "python",
   "name": "python3"
  },
  "language_info": {
   "name": "python",
   "version": "3.10.5"
  },
  "orig_nbformat": 4,
  "vscode": {
   "interpreter": {
    "hash": "238fe4af9a3ef1dbe73a153de40f9e87630483c1268a53a7d6ae4ef57e9f4eb7"
   }
  }
 },
 "nbformat": 4,
 "nbformat_minor": 2
}
