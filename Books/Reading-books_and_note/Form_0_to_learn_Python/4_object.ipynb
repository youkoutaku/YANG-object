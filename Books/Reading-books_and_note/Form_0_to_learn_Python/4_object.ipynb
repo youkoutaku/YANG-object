{
 "cells": [
  {
   "attachments": {},
   "cell_type": "markdown",
   "metadata": {},
   "source": [
    "# 4-1オブジェクト指向\n",
    "これまで,'Hello',3や5など，全ての文字列や数字，符号はそれぞれ重複しないID(認識番号)が持っている．\n",
    "IDをつけて管理されるデータを インスタンス という．(オブジェクトともいえる)\n",
    "「値」ではなく，print関数を使って「インスタンスの値」を知ることができる．\n",
    "その代わりに　id関数を使用し，インスタンスのIDを知ることができる."
   ]
  },
  {
   "cell_type": "code",
   "execution_count": null,
   "metadata": {},
   "outputs": [],
   "source": [
    "a=3\n",
    "id(a)\n",
    "b='Hello'\n",
    "id(b)\n",
    "#異なる変数に異なる「値」を代入すると，IDが異なるのは当然なことだが，"
   ]
  },
  {
   "cell_type": "code",
   "execution_count": null,
   "metadata": {},
   "outputs": [],
   "source": [
    "#同じに変数に異なる「値」を代入すると，IDも異なる．\n",
    "a=3\n",
    "id(a)\n",
    "a='Hello'\n",
    "id(a)\n",
    "#それは異なるデータのIDは異なるためである．"
   ]
  },
  {
   "attachments": {},
   "cell_type": "markdown",
   "metadata": {},
   "source": [
    "だから，C言語のような構造化言語（変数を宣言し，作った変数に番地をつけて，「値」を入れる）とは違う．\n",
    "オブジェクト指向言語では，全ての「値」にID(番地)をつけて，作った変数に「値」の番地を入れる．（ポインタ変数と似るところがある）"
   ]
  },
  {
   "cell_type": "code",
   "execution_count": null,
   "metadata": {},
   "outputs": [],
   "source": [
    "#変数の代入とインスタンスの関係\n",
    "a=2\n",
    "b=a\n",
    "print(a)\n",
    "print(b)"
   ]
  },
  {
   "attachments": {},
   "cell_type": "markdown",
   "metadata": {},
   "source": [
    "変数aと変数bにそれぞれ2の値を持っているというイメージがあるかもしれないが，\n",
    "実際に変数aと変数bにそれぞれ「2の値」のID(番地)を持っている．\n",
    "つまり，異なる変数に同じな「値」(文字列や数字)を代入しても，変数が持っているIDは同じである．"
   ]
  },
  {
   "cell_type": "code",
   "execution_count": null,
   "metadata": {},
   "outputs": [],
   "source": [
    "#インスタンスの同値性と同一性\n",
    "a=10\n",
    "b=10\n",
    "c=5\n",
    "print(a == b)\n",
    "\n",
    "print(a == c)\n",
    "\n",
    "#「==演算子」でインスタンスの値を比較できる．「aとbは同値である」"
   ]
  },
  {
   "cell_type": "code",
   "execution_count": null,
   "metadata": {},
   "outputs": [],
   "source": [
    "a=[1,2,4]\n",
    "b=[1,2,4]\n",
    "print(a == b)\n",
    "\n",
    "#リストの場合は全ての要素が等しいと，インスタンスの値がもちろん等しい．"
   ]
  },
  {
   "cell_type": "code",
   "execution_count": null,
   "metadata": {},
   "outputs": [],
   "source": [
    "a=[1,2,4]\n",
    "b=[1,2,4]\n",
    "print(a is b)\n",
    "\n",
    "#「is演算子」でインスタンスのIDを比較できる．\n",
    "#リストの全ての要素が等しくても，インスタンスのIDが異なる．注意!!!\n",
    "#同値だけど同一ではない"
   ]
  },
  {
   "cell_type": "code",
   "execution_count": null,
   "metadata": {},
   "outputs": [],
   "source": [
    "a=[1,2,4]\n",
    "b=a\n",
    "print(a is b)\n",
    "\n",
    "print(a == b)\n",
    "\n",
    "a[0]=99\n",
    "print(b)\n",
    "\n",
    "#同値かつ同一である．\n",
    "#同値リストはインスタンスのIDが違う．\n",
    "#b = aにより，aとbは一つのリストのIDを持っているので，同一性がある．\n",
    "\n",
    "#同値性をチェックする時は，「==」\n",
    "#同一性をチェックする時は，「is」"
   ]
  },
  {
   "attachments": {},
   "cell_type": "markdown",
   "metadata": {},
   "source": [
    "# 4-2文字列の操作\n",
    "文字列の型:str"
   ]
  },
  {
   "cell_type": "code",
   "execution_count": 2,
   "metadata": {},
   "outputs": [
    {
     "data": {
      "text/plain": [
       "'python'"
      ]
     },
     "execution_count": 2,
     "metadata": {},
     "output_type": "execute_result"
    }
   ],
   "source": [
    "#小文字への変換(lower)\n",
    "a='PYTHON'\n",
    "a.lower()"
   ]
  },
  {
   "cell_type": "code",
   "execution_count": 3,
   "metadata": {},
   "outputs": [
    {
     "data": {
      "text/plain": [
       "'PYTHON'"
      ]
     },
     "execution_count": 3,
     "metadata": {},
     "output_type": "execute_result"
    }
   ],
   "source": [
    "#大文字への変換(upper)\n",
    "a='python'\n",
    "a.upper()"
   ]
  },
  {
   "cell_type": "code",
   "execution_count": 4,
   "metadata": {},
   "outputs": [
    {
     "name": "stdout",
     "output_type": "stream",
     "text": [
      "4\n",
      "-1\n"
     ]
    }
   ],
   "source": [
    "#検索(find)\n",
    "a='Pythonの文字列操作を学ぶ'\n",
    "print(a.find('on'))\n",
    "#文字番号を戻す\n",
    "\n",
    "print(a.find('abc'))\n",
    "#なければ，-1を戻す"
   ]
  },
  {
   "cell_type": "code",
   "execution_count": 7,
   "metadata": {},
   "outputs": [
    {
     "name": "stdout",
     "output_type": "stream",
     "text": [
      "['2021', '4', '01']\n"
     ]
    }
   ],
   "source": [
    "#分割処理(split)\n",
    "s='2021-4-01'\n",
    "l=s.split('-')\n",
    "print(l)\n",
    "\n",
    "#記号で文字列を区切り，リストを戻す"
   ]
  },
  {
   "cell_type": "code",
   "execution_count": 8,
   "metadata": {},
   "outputs": [
    {
     "data": {
      "text/plain": [
       "'Pythonの学習'"
      ]
     },
     "execution_count": 8,
     "metadata": {},
     "output_type": "execute_result"
    }
   ],
   "source": [
    "#置換(replace)\n",
    "a='Java言語の学習'\n",
    "a.replace('Java言語','Python')"
   ]
  },
  {
   "cell_type": "code",
   "execution_count": 10,
   "metadata": {},
   "outputs": [
    {
     "name": "stdout",
     "output_type": "stream",
     "text": [
      "今日は2021年4月10日です．\n"
     ]
    }
   ],
   "source": [
    "#formatメソッド\n",
    "year=2021\n",
    "month=4\n",
    "day=10\n",
    "message = f'今日は{year}年{month}月{day}日です．'\n",
    "print(message)"
   ]
  },
  {
   "cell_type": "code",
   "execution_count": 11,
   "metadata": {},
   "outputs": [
    {
     "name": "stdout",
     "output_type": "stream",
     "text": [
      "今日は2021年4月10日です．\n"
     ]
    }
   ],
   "source": [
    "message = '今日は{}年{}月{}日です．'.format(year,month,day)\n",
    "print(message)"
   ]
  },
  {
   "cell_type": "code",
   "execution_count": 12,
   "metadata": {},
   "outputs": [
    {
     "name": "stdout",
     "output_type": "stream",
     "text": [
      "今日は4月10日です．西暦2021年です．\n"
     ]
    }
   ],
   "source": [
    "message = '今日は{1}月{2}日です．西暦{0}年です．'.format(year,month,day)\n",
    "print(message)"
   ]
  },
  {
   "cell_type": "code",
   "execution_count": 20,
   "metadata": {},
   "outputs": [
    {
     "name": "stdout",
     "output_type": "stream",
     "text": [
      "円周率3.141592653589793\n",
      "円周率3.142\n",
      "10000000\n",
      "10,000,000\n",
      "10\n",
      "   10\n"
     ]
    }
   ],
   "source": [
    "#インデックス番号の後ろにコロン（：）による書式設定\n",
    "import math\n",
    "print('円周率{}'.format(math.pi))\n",
    "print('円周率{:.3f}'.format(math.pi))\n",
    "#(:.3f)による小数点桁数消す\n",
    "\n",
    "print('{}'.format(10000000))\n",
    "print('{:,}'.format(10000000))\n",
    "#(:,)による区切り\n",
    "\n",
    "print('{}'.format(10))\n",
    "print('{:>5}'.format(10))\n",
    "#(:>)による空白\n",
    "\n",
    "#など\n"
   ]
  },
  {
   "cell_type": "code",
   "execution_count": 21,
   "metadata": {},
   "outputs": [
    {
     "name": "stdout",
     "output_type": "stream",
     "text": [
      "True\n",
      "False\n"
     ]
    }
   ],
   "source": [
    "#in演算子\n",
    "#文字列1が，文字列2の中に含まれる場合，in演算子を含む式んお値はTrue.\n",
    "print('オブジェクト' in 'Pythonはオブジェクト指向言語')\n",
    "print('機能' in 'Pythonはオブジェクト指向言語')"
   ]
  },
  {
   "cell_type": "code",
   "execution_count": null,
   "metadata": {},
   "outputs": [],
   "source": [
    "#4-3リストとタプル\n"
   ]
  },
  {
   "cell_type": "code",
   "execution_count": null,
   "metadata": {},
   "outputs": [],
   "source": [
    "#4-4 辞書とセット"
   ]
  },
  {
   "cell_type": "code",
   "execution_count": null,
   "metadata": {},
   "outputs": [],
   "source": [
    "#4-5 基礎型の性質"
   ]
  }
 ],
 "metadata": {
  "kernelspec": {
   "display_name": "Python 3",
   "language": "python",
   "name": "python3"
  },
  "language_info": {
   "codemirror_mode": {
    "name": "ipython",
    "version": 3
   },
   "file_extension": ".py",
   "mimetype": "text/x-python",
   "name": "python",
   "nbconvert_exporter": "python",
   "pygments_lexer": "ipython3",
   "version": "3.10.5"
  },
  "orig_nbformat": 4,
  "vscode": {
   "interpreter": {
    "hash": "238fe4af9a3ef1dbe73a153de40f9e87630483c1268a53a7d6ae4ef57e9f4eb7"
   }
  }
 },
 "nbformat": 4,
 "nbformat_minor": 2
}
