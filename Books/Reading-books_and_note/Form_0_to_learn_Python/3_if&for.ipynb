{
 "cells": [
  {
   "cell_type": "code",
   "execution_count": null,
   "metadata": {},
   "outputs": [],
   "source": [
    "#3-1入力\n",
    "print('長方形の面積を求めます\\n')\n",
    "height = float(input('高さを入力してください\\n'))\n",
    "width = float(input('幅を入力してください\\n'))\n",
    "print(f'the answer is {height*width}.')"
   ]
  },
  {
   "cell_type": "code",
   "execution_count": null,
   "metadata": {},
   "outputs": [],
   "source": [
    "#3-2条件分岐\n",
    "a=18\n",
    "if a<16:\n",
    "    print('まだ選挙権はありません')\n",
    "\n",
    "age=20\n",
    "if a<13:\n",
    "    print('無料')\n",
    "elif a<65:\n",
    "    print('大人の料金')\n",
    "else:\n",
    "    print('割引の料金')\n",
    "\n",
    "#3項演算子 値1 if 条件式 else 値2\n",
    "c = a if a>b else b\n",
    "#if a>b : c=a else: c=b"
   ]
  },
  {
   "cell_type": "code",
   "execution_count": null,
   "metadata": {},
   "outputs": [],
   "source": [
    "#3-3論理演算子\n",
    "#and論理積\n",
    "a>0 and b>0\n",
    "#or論理和\n",
    "a>0 or b>0\n",
    "#not否定\n",
    "not a>0\n",
    "\n",
    "#演算子順位　算術演算子(+ - * /...) > 関係演算子(> < == !=...) > 論理演算子(and or not) \n",
    "(a+c>10) and (b<3)\n",
    "\n",
    "#比較演算子の連結\n",
    "(a>5) and (a<10)\n",
    "#まとめられる\n",
    "5 < a < 10\n",
    "\n",
    "a < b == c\n",
    "# (a<b) and (b==c)"
   ]
  },
  {
   "cell_type": "code",
   "execution_count": null,
   "metadata": {},
   "outputs": [],
   "source": [
    "#if文と真偽値\n",
    "if a == True:\n",
    "    b=c\n",
    "\n",
    "if a:\n",
    "    b=c\n",
    "\n",
    "#ifでnotの利用\n",
    "if not a:\n",
    "    b=d\n",
    "else:\n",
    "    b=c"
   ]
  },
  {
   "attachments": {},
   "cell_type": "markdown",
   "metadata": {},
   "source": [
    "Falseと同等に扱われる値\n",
    "None #値がない\n",
    "0 #ゼロ\n",
    "'' #空の文字列\n",
    "() #空のタプル(tuple 不可変化型のリスト)\n",
    "[] #空のリスト\n",
    "{} #空の辞書"
   ]
  },
  {
   "cell_type": "code",
   "execution_count": null,
   "metadata": {},
   "outputs": [],
   "source": [
    "#3-4処理の繰り返し\n",
    "#while文\n",
    "i = 0\n",
    "while i<5:\n",
    "    print('こにちは')\n",
    "    i += 1\n"
   ]
  },
  {
   "cell_type": "code",
   "execution_count": null,
   "metadata": {},
   "outputs": [],
   "source": [
    "#for文\n",
    "for i in [10,20,30,40,50]:\n",
    "    print(i)\n",
    "#for 変数 in 反復可能オブジェクト:"
   ]
  },
  {
   "attachments": {},
   "cell_type": "markdown",
   "metadata": {},
   "source": [
    "for 変数 in 反復可能オブジェクト:\n",
    "処理内容\n",
    "反復可能オブジェクトの要素が先頭から一つずつ順番に「変数」に代入され，処理内容が実行される．\n",
    "全ての要素を参照し，ループを終わる．"
   ]
  },
  {
   "cell_type": "code",
   "execution_count": null,
   "metadata": {},
   "outputs": [],
   "source": [
    "#rangeオブジェクト\n",
    "range(stop)\n",
    "#0から「stop-1」までの整数"
   ]
  },
  {
   "cell_type": "code",
   "execution_count": null,
   "metadata": {},
   "outputs": [],
   "source": [
    "range(start,stop)\n",
    "#startの値から「stop-1」までの整数\n"
   ]
  },
  {
   "cell_type": "code",
   "execution_count": null,
   "metadata": {},
   "outputs": [],
   "source": [
    "range(start,stop,step)\n",
    "#startの値から「stop-1」までの整数，増分はstep\n",
    "#stepがマイナスであれば，startの値から「stop+1」までの整数,step次第に値を小さくなる"
   ]
  },
  {
   "cell_type": "code",
   "execution_count": null,
   "metadata": {},
   "outputs": [],
   "source": [
    "for i in range(10):\n",
    "    print(i)\n",
    "\n",
    "#ループ処理を中断する.「break」\n",
    "#ループの中の残りの処理をスキップし，次の繰り返し回に移る．「continue」\n"
   ]
  },
  {
   "cell_type": "code",
   "execution_count": null,
   "metadata": {},
   "outputs": [],
   "source": [
    "#無限ループ\n",
    "while 1:\n",
    "    print('こにちは')\n"
   ]
  },
  {
   "cell_type": "code",
   "execution_count": null,
   "metadata": {},
   "outputs": [],
   "source": [
    "#ループ処理のネスト\n",
    "for a in range(1,10):\n",
    "    print()#改行するため\n",
    "    for b in range(1,10):\n",
    "        print(f'{a}+{b}={a*b}',end='')\n",
    "    #通常のprintは改行を付けるので，「end=''」をつけて改行せずに出力になる.\n"
   ]
  }
 ],
 "metadata": {
  "kernelspec": {
   "display_name": "Python 3",
   "language": "python",
   "name": "python3"
  },
  "language_info": {
   "name": "python",
   "version": "3.10.5"
  },
  "orig_nbformat": 4,
  "vscode": {
   "interpreter": {
    "hash": "238fe4af9a3ef1dbe73a153de40f9e87630483c1268a53a7d6ae4ef57e9f4eb7"
   }
  }
 },
 "nbformat": 4,
 "nbformat_minor": 2
}
